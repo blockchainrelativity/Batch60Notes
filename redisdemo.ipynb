{
  "nbformat": 4,
  "nbformat_minor": 0,
  "metadata": {
    "colab": {
      "provenance": [],
      "authorship_tag": "ABX9TyP4ztL7qbz6hzUz5awIr3CL",
      "include_colab_link": true
    },
    "kernelspec": {
      "name": "python3",
      "display_name": "Python 3"
    },
    "language_info": {
      "name": "python"
    }
  },
  "cells": [
    {
      "cell_type": "markdown",
      "metadata": {
        "id": "view-in-github",
        "colab_type": "text"
      },
      "source": [
        "<a href=\"https://colab.research.google.com/github/blockchainrelativity/Batch60Notes/blob/main/redisdemo.ipynb\" target=\"_parent\"><img src=\"https://colab.research.google.com/assets/colab-badge.svg\" alt=\"Open In Colab\"/></a>"
      ]
    },
    {
      "cell_type": "code",
      "execution_count": null,
      "metadata": {
        "id": "ixgLIYYG-Ffh"
      },
      "outputs": [],
      "source": [
        "\n",
        "%pip install redis numpy pandas\n",
        "%pip install -U sentence-transformers"
      ]
    },
    {
      "cell_type": "code",
      "source": [
        "import random\n",
        "import numpy as np\n",
        "import pandas as pd\n",
        "import time\n",
        "from redis import Redis\n",
        "from redis.commands.search.field import VectorField\n",
        "from redis.commands.search.field import TextField\n",
        "from redis.commands.search.field import TagField\n",
        "from redis.commands.search.query import Query\n",
        "from redis.commands.search.result import Result\n",
        "\n",
        "class color:\n",
        "   PURPLE = '\\033[95m'\n",
        "   CYAN = '\\033[96m'\n",
        "   DARKCYAN = '\\033[36m'\n",
        "   BLUE = '\\033[94m'\n",
        "   GREEN = '\\033[92m'\n",
        "   YELLOW = '\\033[93m'\n",
        "   RED = '\\033[91m'\n",
        "   BOLD = '\\033[1m'\n",
        "   UNDERLINE = '\\033[4m'\n",
        "   END = '\\033[0m'"
      ],
      "metadata": {
        "id": "mXpezdo5-wAa"
      },
      "execution_count": null,
      "outputs": []
    },
    {
      "cell_type": "code",
      "source": [
        "MAX_TEXT_LENGTH=512\n",
        "NUMBER_PRODUCTS=1000\n",
        "\n",
        "def auto_truncate(val):\n",
        "    return val[:MAX_TEXT_LENGTH]\n",
        "\n",
        "#Load Product data and truncate long text fields\n",
        "all_prods_df = pd.read_csv(\"data/product_data.csv\", converters={'bullet_point': auto_truncate,'item_keywords':auto_truncate,'item_name':auto_truncate})\n",
        "all_prods_df['primary_key'] = all_prods_df['item_id'] + '-' + all_prods_df['domain_name']\n",
        "all_prods_df['item_keywords'].replace('', np.nan, inplace=True)\n",
        "all_prods_df.dropna(subset=['item_keywords'], inplace=True)\n",
        "all_prods_df.reset_index(drop=True,inplace=True)\n",
        "\n",
        "#get the first 1000 products with non-empty item keywords\n",
        "product_metadata = all_prods_df.head(NUMBER_PRODUCTS).to_dict(orient='index')\n",
        "\n"
      ],
      "metadata": {
        "id": "OwPXK6pQ-1Hn"
      },
      "execution_count": null,
      "outputs": []
    },
    {
      "cell_type": "code",
      "source": [
        "all_prods_df.head()"
      ],
      "metadata": {
        "id": "O6VJ16D3-41A"
      },
      "execution_count": null,
      "outputs": []
    },
    {
      "cell_type": "code",
      "source": [
        "redis_conn = Redis(\n",
        "  host='XXXX',\n",
        "  port=12345,\n",
        "  password=\"XXXXXXXX\")\n",
        "print ('Connected to redis')\n"
      ],
      "metadata": {
        "id": "tUkKLlVZ-8Id"
      },
      "execution_count": null,
      "outputs": []
    },
    {
      "cell_type": "code",
      "source": [
        "from sentence_transformers import SentenceTransformer\n",
        "model = SentenceTransformer('sentence-transformers/all-distilroberta-v1')\n",
        "\n",
        "%%time\n",
        "\n",
        "item_keywords =  [product_metadata[i]['item_keywords']  for i in product_metadata.keys()]\n",
        "item_keywords_vectors = [ model.encode(sentence) for sentence in item_keywords]\n"
      ],
      "metadata": {
        "id": "Gn3t_qT6_BEV"
      },
      "execution_count": null,
      "outputs": []
    },
    {
      "cell_type": "code",
      "source": [
        "len(item_keywords_vectors)\n",
        "len(product_metadata)\n",
        "# Check one of the products\n",
        "product_metadata[0]"
      ],
      "metadata": {
        "id": "DjFg_Qnj_D3f"
      },
      "execution_count": null,
      "outputs": []
    },
    {
      "cell_type": "code",
      "source": [
        "def load_vectors(client:Redis, product_metadata, vector_dict, vector_field_name):\n",
        "    p = client.pipeline(transaction=False)\n",
        "    for index in product_metadata.keys():\n",
        "        #hash key\n",
        "        key='product:'+ str(index)+ ':' + product_metadata[index]['primary_key']\n",
        "\n",
        "        #hash values\n",
        "        item_metadata = product_metadata[index]\n",
        "        item_keywords_vector = vector_dict[index].astype(np.float32).tobytes()\n",
        "        item_metadata[vector_field_name]=item_keywords_vector\n",
        "\n",
        "        # HSET\n",
        "        p.hset(key,mapping=item_metadata)\n",
        "\n",
        "    p.execute()\n",
        "\n",
        "def create_flat_index (redis_conn,vector_field_name,number_of_vectors, vector_dimensions=512, distance_metric='L2'):\n",
        "    redis_conn.ft().create_index([\n",
        "        VectorField(vector_field_name, \"FLAT\", {\"TYPE\": \"FLOAT32\", \"DIM\": vector_dimensions, \"DISTANCE_METRIC\": distance_metric, \"INITIAL_CAP\": number_of_vectors, \"BLOCK_SIZE\":number_of_vectors }),\n",
        "        TagField(\"product_type\"),\n",
        "        TextField(\"item_name\"),\n",
        "        TextField(\"item_keywords\"),\n",
        "        TagField(\"country\")\n",
        "    ])\n",
        "\n",
        "def create_hnsw_index (redis_conn,vector_field_name,number_of_vectors, vector_dimensions=512, distance_metric='L2',M=40,EF=200):\n",
        "    redis_conn.ft().create_index([\n",
        "        VectorField(vector_field_name, \"HNSW\", {\"TYPE\": \"FLOAT32\", \"DIM\": vector_dimensions, \"DISTANCE_METRIC\": distance_metric, \"INITIAL_CAP\": number_of_vectors, \"M\": M, \"EF_CONSTRUCTION\": EF}),\n",
        "        TagField(\"product_type\"),\n",
        "        TextField(\"item_keywords\"),\n",
        "        TextField(\"item_name\"),\n",
        "        TagField(\"country\")\n",
        "    ])"
      ],
      "metadata": {
        "id": "UPfMBd8C_GIj"
      },
      "execution_count": null,
      "outputs": []
    },
    {
      "cell_type": "code",
      "source": [
        "%%time\n",
        "print ('Loading and Indexing + ' +  str(NUMBER_PRODUCTS) + ' products')\n",
        "\n",
        "ITEM_KEYWORD_EMBEDDING_FIELD='item_keyword_vector'\n",
        "NUMBER_PRODUCTS=1000\n",
        "TEXT_EMBEDDING_DIMENSION=768\n",
        "\n",
        "#flush all data\n",
        "redis_conn.flushall()\n",
        "\n",
        "#create flat index & load vectors\n",
        "create_hnsw_index(redis_conn, ITEM_KEYWORD_EMBEDDING_FIELD,NUMBER_PRODUCTS,TEXT_EMBEDDING_DIMENSION,'COSINE',M=40,EF=200)\n",
        "load_vectors(redis_conn,product_metadata,item_keywords_vectors,ITEM_KEYWORD_EMBEDDING_FIELD)"
      ],
      "metadata": {
        "id": "Tt6AEJ7K_JZQ"
      },
      "execution_count": null,
      "outputs": []
    },
    {
      "cell_type": "code",
      "source": [
        "%%time\n",
        "topK=5\n",
        "product_query='beautifully crafted present for her. a special occasion'\n",
        "#product_query='cool way to pimp up my cell'\n",
        "\n",
        "#vectorize the query\n",
        "query_vector = model.encode(product_query).astype(np.float32).tobytes()\n",
        "\n",
        "#prepare the query\n",
        "q = Query(f'*=>[KNN {topK} @{ITEM_KEYWORD_EMBEDDING_FIELD} $vec_param AS vector_score]').sort_by('vector_score').paging(0,topK).return_fields('vector_score','item_name','item_id','item_keywords','country').dialect(2)\n",
        "params_dict = {\"vec_param\": query_vector}\n",
        "\n",
        "#Execute the query\n",
        "results = redis_conn.ft().search(q, query_params = params_dict)\n",
        "\n",
        "#Print similar products found\n",
        "for product in results.docs:\n",
        "    print ('***************Product  found ************')\n",
        "    print (color.BOLD + 'hash key = ' +  color.END + product.id)\n",
        "    print (color.YELLOW + 'Item Name = ' +  color.END  + product.item_name)\n",
        "    print (color.YELLOW + 'Item Id = ' +  color.END  + product.item_id)\n",
        "    print (color.YELLOW + 'Item keywords = ' +  color.END  + product.item_keywords)\n",
        "    print (color.YELLOW + 'Country = ' +  color.END  + product.country)\n",
        "    print (color.YELLOW + 'Score = ' +  color.END  + product.vector_score)"
      ],
      "metadata": {
        "id": "LC-_VaZA_NZE"
      },
      "execution_count": null,
      "outputs": []
    },
    {
      "cell_type": "code",
      "source": [],
      "metadata": {
        "id": "8HjXGjYa_RjK"
      },
      "execution_count": null,
      "outputs": []
    }
  ]
}